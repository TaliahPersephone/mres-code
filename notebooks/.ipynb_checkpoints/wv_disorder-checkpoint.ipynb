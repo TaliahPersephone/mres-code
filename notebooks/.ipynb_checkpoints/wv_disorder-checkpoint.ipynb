{
 "cells": [
  {
   "cell_type": "code",
   "execution_count": null,
   "id": "737c4776",
   "metadata": {},
   "outputs": [],
   "source": [
    "import numpy as np\n",
    "import matplotlib.pyplot as plt\n",
    "from qutils import vector_norm, bv_to_ket, bv_to_rho"
   ]
  },
  {
   "cell_type": "code",
   "execution_count": null,
   "id": "f310a7f8",
   "metadata": {},
   "outputs": [],
   "source": [
    "def bloch_vector_interation(v, omega_a, t, tau):\n",
    "    \"\"\" Return the interaction picture representation of a bloch vector, according to (42) of Ferraz et al. (2024) \"\"\"\n",
    "    time = omega_a * (t + tau)\n",
    "    sin_time = np.sin(time)\n",
    "    cos_time = np.cos(time)\n",
    "\n",
    "    v_int_x = v[0] * cos_time + v[1] * sin_time\n",
    "    v_int_y = v[1] * cos_time - v[0] * sin_time\n",
    "    v_int_z = v[2]\n",
    "\n",
    "    return np.array([v_int_x, v_int_y, v_int_z])"
   ]
  },
  {
   "cell_type": "code",
   "execution_count": null,
   "id": "edf80a7c",
   "metadata": {},
   "outputs": [],
   "source": [
    "def fgamma_interation(f_int, tau=0, gamma=0):\n",
    "    \"\"\" Return fgamma_int, according to (43) of Ferraz et al. (2024) \"\"\"\n",
    "    fgamma_int_x = np.exp(-0.5 * gamma * tau) * f_int[0]\n",
    "    fgamma_int_y = np.exp(-0.5 * gamma * tau) * f_int[1]\n",
    "    fgamma_int_z = np.exp(-1 * gamma * tau) * f_int[2]\n",
    "\n",
    "    return np.array([fgamma_int_x, fgamma_int_y, fgamma_int_z])"
   ]
  },
  {
   "cell_type": "code",
   "execution_count": null,
   "id": "938d260f",
   "metadata": {},
   "outputs": [],
   "source": [
    "def wv_ferraz(i, f_int, fgamma_int, m_int, a=0, b=1):\n",
    "    \"\"\" Return weak value according to (47) of Ferraz et al. (2024) \"\"\"\n",
    "    f_z_term = 1 + fgamma_int[2] - f_int[2]\n",
    "\n",
    "    numerator =  np.dot(fgamma_int, m_int)\n",
    "    numerator += np.dot(i, m_int) * f_z_term\n",
    "    numerator += 1j * np.dot(fgamma_int, np.cross(m_int, i))\n",
    "\n",
    "    denominator = f_z_term + np.dot(fgamma_int, i)\n",
    "\n",
    "    wv = a + b * numerator / denominator\n",
    "\n",
    "    return wv"
   ]
  },
  {
   "cell_type": "code",
   "execution_count": null,
   "id": "f3d49d55",
   "metadata": {},
   "outputs": [],
   "source": [
    "def calculate_wv(i, f, m, omega_a, t, tau=0, gamma=0):\n",
    "    \"\"\" Calculate weak values for one omega_a \"\"\"\n",
    "    f_int = bloch_vector_interation(f, omega_a, t, tau)\n",
    "    m_int = bloch_vector_interation(m, omega_a, 0.5 * t, 0)\n",
    "\n",
    "    fgamma_int = fgamma_interation(f, tau, gamma) if tau * gamma else f_int\n",
    "\n",
    "    return wv_ferraz(i, f_int, fgamma_int, m_int)\n",
    "\n",
    "\n",
    "def disordered_wvs(i, f, m, omega_as, t, tau=0, gamma=0):\n",
    "    \"\"\" Calculate weak values across omega_as \"\"\"\n",
    "    return np.array([calculate_wv(i, f, m, omega_a, t, tau, gamma) for omega_a in omega_as])"
   ]
  },
  {
   "cell_type": "code",
   "execution_count": null,
   "id": "d5666c2e",
   "metadata": {},
   "outputs": [],
   "source": [
    "def plot_wvs(wvs, wv_0):\n",
    "    _, axs = plt.subplots(3, 2, figsize=(8, 8), layout='constrained')\n",
    "\n",
    "    wvs_mean = wvs.mean()\n",
    "    wv_diff = wv_0 - wvs_mean\n",
    "    wv_diff_max = np.max([np.real(wv_diff), np.imag(wv_diff)])\n",
    "\n",
    "    axs[0,0].axhline(y=np.real(wv_0), label='A_w of mean omega_a')\n",
    "    axs[0,0].axhline(y=np.real(wvs_mean), label='Mean of A_ws', color='r')\n",
    "    axs[0,0].set_ylim([np.real(wv_0) + wv_diff_max * 3, np.real(wv_0) - wv_diff_max * 3])\n",
    "    axs[0,0].set_title('Re[A_w] and Re[mean A_w]')\n",
    "    axs[0,0].legend()\n",
    "\n",
    "    axs[0,1].axhline(y=np.imag(wv_0), label='A_w of mean omega_a')\n",
    "    axs[0,1].axhline(y=np.imag(wvs_mean), label='Mean of A_ws', color='r')\n",
    "    axs[0,1].set_ylim([np.imag(wv_0) + wv_diff_max * 3, np.imag(wv_0) - wv_diff_max * 3])\n",
    "    axs[0,1].set_title('Im[A_w] and Im[mean A_w]')\n",
    "    axs[0,1].legend()\n",
    "\n",
    "    axs[1,0].plot(omega_as, np.real(wvs))\n",
    "    axs[1,0].set_title('Re[A_w]')\n",
    "    axs[1,1].plot(omega_as, np.imag(wvs))\n",
    "    axs[1,1].set_title('Im[A_w]')\n",
    "\n",
    "    axs[2,0].hist(omega_as, bins=np.sqrt(samples).astype(int))\n",
    "    axs[2,0].set_title(\"omega_a freqs\")\n",
    "\n",
    "    plt.show()"
   ]
  },
  {
   "cell_type": "code",
   "execution_count": null,
   "id": "8bfe50a1",
   "metadata": {},
   "outputs": [],
   "source": [
    "generator = np.random.default_rng()"
   ]
  },
  {
   "cell_type": "code",
   "execution_count": null,
   "id": "d7fef2bc",
   "metadata": {},
   "outputs": [],
   "source": [
    "i = np.array([0,0,-1])\n",
    "i = i / np.sqrt(np.sum(i**2))\n",
    "\n",
    "f = np.array([-1,0,0])\n",
    "f = f / np.sqrt(np.sum(f**2))\n",
    "\n",
    "m = np.array([1,0,0])\n",
    "m = m / np.sqrt(np.sum(m**2))"
   ]
  },
  {
   "cell_type": "code",
   "execution_count": null,
   "id": "09566f3a",
   "metadata": {},
   "outputs": [],
   "source": [
    "# Gaussian disorder, std ~ g_int -> std < omega_a\n",
    "\n",
    "samples = 10000\n",
    "omega_a_mean = 1\n",
    "omega_a_std = 0.01\n",
    "\n",
    "omega_as = generator.normal(omega_a_mean, omega_a_std, 1000)"
   ]
  },
  {
   "cell_type": "code",
   "execution_count": null,
   "id": "4f00fe49",
   "metadata": {},
   "outputs": [],
   "source": [
    "t = 1\n",
    "wvs = disordered_wvs(i, f, m, omega_as, t)\n",
    "wv_0 = calculate_wv(i, f, m, omega_a_mean, t)\n",
    "plot_wvs(wvs, wv_0)"
   ]
  },
  {
   "cell_type": "code",
   "execution_count": null,
   "id": "4ed2e80f",
   "metadata": {},
   "outputs": [],
   "source": [
    "omega_a = np.pi / 4\n",
    "t = 1\n",
    "f_int = bloch_vector_interation(f, omega_a, t, 0)\n",
    "\n",
    "axs[0,1].hist(omega_as, bins=np.sqrt(samples).astype(int))\n",
    "axs[0,1].set_title(\"omega_a freqs\")\n",
    "m_int = bloch_vector_interation(m, omega_a, t/2, 0)\n",
    "\n",
    "wv_ferraz(i, f_int, f_int, m_int)"
   ]
  },
  {
   "cell_type": "code",
   "execution_count": null,
   "id": "27be085b",
   "metadata": {},
   "outputs": [],
   "source": [
    "print(f'f:{f}\\nf_int{f_int}\\n\\nm:{m}\\nm_int{m_int}')"
   ]
  },
  {
   "cell_type": "code",
   "execution_count": null,
   "id": "791031ee",
   "metadata": {},
   "outputs": [],
   "source": [
    "def vector_norm(v):\n",
    "    \"\"\" Return the norm of a vector \"\"\"\n",
    "    return np.sqrt(np.sum([vi * np.conjugate(vi) for vi in v]))\n",
    "\n",
    "def bv_to_rho(v):\n",
    "    \"\"\" Return the state represented by a unit bloch vector \"\"\"\n",
    "    eye = np.array([[1, 0], [0, 1]])\n",
    "    sx = np.array([[0, 1], [1, 0]])\n",
    "    sy = np.array([[0, -1j], [1j, 0]])\n",
    "    sz = np.array([[1, 0], [0, -1]])\n",
    "\n",
    "    norm = vector_norm(v)\n",
    "\n",
    "    return 0.5 * norm * ( eye + v[0] * sx + v[1] * sy + v[2] * sz)\n",
    "\n",
    "def bv_to_ket(v):\n",
    "    \"\"\" Return the ket represented by the given unit bloch vector \"\"\"\n",
    "    theta = np.arccos(v[2])\n",
    "    phi = np.arctan(v[1]/v[0])\n",
    "\n",
    "    norm = vector_norm(v)\n",
    "\n",
    "    return np.sqrt(norm) * np.array([[np.cos(theta/2)], [np.exp(1j * phi) * np.sin(theta/2)]])"
   ]
  }
 ],
 "metadata": {
  "kernelspec": {
   "display_name": "Python 3 (ipykernel)",
   "language": "python",
   "name": "python3"
  },
  "language_info": {
   "codemirror_mode": {
    "name": "ipython",
    "version": 3
   },
   "file_extension": ".py",
   "mimetype": "text/x-python",
   "name": "python",
   "nbconvert_exporter": "python",
   "pygments_lexer": "ipython3",
   "version": "3.12.4"
  }
 },
 "nbformat": 4,
 "nbformat_minor": 5
}
